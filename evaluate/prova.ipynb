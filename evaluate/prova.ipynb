{
 "cells": [
  {
   "cell_type": "code",
   "execution_count": null,
   "metadata": {},
   "outputs": [
    {
     "name": "stderr",
     "output_type": "stream",
     "text": [
      "  0%|          | 274/100000 [00:03<18:37, 89.25it/s]"
     ]
    }
   ],
   "source": [
    "from infosedd.ising import Ising\n",
    "\n",
    "l = 10\n",
    "t = 1.0\n",
    "mc_steps = 1000*l\n",
    "\n",
    "ising = Ising(10, 1.0, mc_steps)\n",
    "\n",
    "samples = ising.rvs(size=10000)"
   ]
  }
 ],
 "metadata": {
  "kernelspec": {
   "display_name": "sedd",
   "language": "python",
   "name": "python3"
  },
  "language_info": {
   "codemirror_mode": {
    "name": "ipython",
    "version": 3
   },
   "file_extension": ".py",
   "mimetype": "text/x-python",
   "name": "python",
   "nbconvert_exporter": "python",
   "pygments_lexer": "ipython3",
   "version": "3.10.14"
  }
 },
 "nbformat": 4,
 "nbformat_minor": 2
}
