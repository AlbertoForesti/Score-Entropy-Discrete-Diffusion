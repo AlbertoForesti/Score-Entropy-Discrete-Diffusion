{
 "cells": [
  {
   "cell_type": "code",
   "execution_count": 19,
   "metadata": {},
   "outputs": [],
   "source": [
    "import numpy as np\n",
    "\n",
    "data = np.load(r\"/home/foresti/Score-Entropy-Discrete-Diffusion/genomic-FM/train_clinvar.npy\")\n",
    "data = data[:10000]"
   ]
  },
  {
   "cell_type": "code",
   "execution_count": null,
   "metadata": {},
   "outputs": [
    {
     "name": "stdout",
     "output_type": "stream",
     "text": [
      "(10000, 33)\n",
      "(array([0, 1, 2, 3]), array([1509, 7650,  395,  446]))\n"
     ]
    }
   ],
   "source": [
    "print(data.shape)\n",
    "print(np.unique(data[:,-1], return_counts=True))\n",
    "class_labels = np.unique(data[:,-1], return_counts=True)[1]\n",
    "p_class_labels = class_labels/sum(class_labels)\n",
    "print(p_class_labels)"
   ]
  }
 ],
 "metadata": {
  "kernelspec": {
   "display_name": "sedd",
   "language": "python",
   "name": "python3"
  },
  "language_info": {
   "codemirror_mode": {
    "name": "ipython",
    "version": 3
   },
   "file_extension": ".py",
   "mimetype": "text/x-python",
   "name": "python",
   "nbconvert_exporter": "python",
   "pygments_lexer": "ipython3",
   "version": "3.10.16"
  }
 },
 "nbformat": 4,
 "nbformat_minor": 2
}
