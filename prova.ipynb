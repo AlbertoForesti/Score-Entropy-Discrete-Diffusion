{
 "cells": [
  {
   "cell_type": "code",
   "execution_count": 1,
   "metadata": {},
   "outputs": [],
   "source": [
    "from datasets import load_dataset\n",
    "\n",
    "hf_dataset = \"alexfabbri/multi_news\"\n",
    "# hf_dataset = \"abisee/cnn_dailymail\"\n",
    "dataset_name = hf_dataset.split(\"/\")[1]\n",
    "\n",
    "ds = load_dataset(hf_dataset, \"3.0.0\")"
   ]
  },
  {
   "cell_type": "code",
   "execution_count": 2,
   "metadata": {},
   "outputs": [
    {
     "name": "stdout",
     "output_type": "stream",
     "text": [
      "Hugging Face cache directory: /homes/foresti/.cache/huggingface/hub\n"
     ]
    }
   ],
   "source": [
    "from transformers import file_utils\n",
    "\n",
    "# Get the cache directory path\n",
    "cache_dir = file_utils.default_cache_path\n",
    "\n",
    "# Print the cache directory path\n",
    "print(f\"Hugging Face cache directory: {cache_dir}\")"
   ]
  },
  {
   "cell_type": "code",
   "execution_count": 3,
   "metadata": {},
   "outputs": [
    {
     "data": {
      "application/vnd.jupyter.widget-view+json": {
       "model_id": "786252ba196e4574b76f3e663edc8d92",
       "version_major": 2,
       "version_minor": 0
      },
      "text/plain": [
       "Saving the dataset (0/2 shards):   0%|          | 0/44972 [00:00<?, ? examples/s]"
      ]
     },
     "metadata": {},
     "output_type": "display_data"
    },
    {
     "data": {
      "application/vnd.jupyter.widget-view+json": {
       "model_id": "15ea233efaed411eae6794b79f332378",
       "version_major": 2,
       "version_minor": 0
      },
      "text/plain": [
       "Saving the dataset (0/1 shards):   0%|          | 0/5622 [00:00<?, ? examples/s]"
      ]
     },
     "metadata": {},
     "output_type": "display_data"
    },
    {
     "data": {
      "application/vnd.jupyter.widget-view+json": {
       "model_id": "779820cc76f54f78bad6b40b29a5bd1e",
       "version_major": 2,
       "version_minor": 0
      },
      "text/plain": [
       "Saving the dataset (0/1 shards):   0%|          | 0/5622 [00:00<?, ? examples/s]"
      ]
     },
     "metadata": {},
     "output_type": "display_data"
    }
   ],
   "source": [
    "ds.save_to_disk(f\"data/{dataset_name}\")"
   ]
  },
  {
   "cell_type": "code",
   "execution_count": 4,
   "metadata": {},
   "outputs": [
    {
     "name": "stdout",
     "output_type": "stream",
     "text": [
      "Example 0:\n",
      "Title: – The unemployment rate dropped to 8.2% last month, but the economy only added 120,000 jobs, when 203,000 new jobs had been predicted, according to today's jobs report. Reaction on the Wall Street Journal's MarketBeat Blog was swift: \"Woah!!! Bad number.\" The unemployment rate, however, is better news; it had been expected to hold steady at 8.3%. But the AP notes that the dip is mostly due to more Americans giving up on seeking employment.\n",
      "Article: National Archives \n",
      " \n",
      " Yes, it’s that time again, folks. It’s the first Friday of the month, when for one ever-so-brief moment the interests of Wall Street, Washington and Main Street are all aligned on one thing: Jobs. \n",
      " \n",
      " A fresh update on the U.S. employment situation for January hits the wires at 8:30 a.m. New York time offering one of the most important snapshots on how the economy fared during the previous month. Expectations are for 203,000 new jobs to be created, according to economists polled by Dow Jones Newswires, compared to 227,000 jobs added in February. The unemployment rate is expected to hold steady at 8.3%. \n",
      " \n",
      " Here at MarketBeat HQ, we’ll be offering color commentary before and after the data crosses the wires. Feel free to weigh-in yourself, via the comments section. And while you’re here, why don’t you sign up to follow us on Twitter. \n",
      " \n",
      " Enjoy the show. ||||| Employers pulled back sharply on hiring last month, a reminder that the U.S. economy may not be growing fast enough to sustain robust job growth. The unemployment rate dipped, but mostly because more Americans stopped looking for work. \n",
      " \n",
      " The Labor Department says the economy added 120,000 jobs in March, down from more than 200,000 in each of the previous three months. \n",
      " \n",
      " The unemployment rate fell to 8.2 percent, the lowest since January 2009. The rate dropped because fewer people searched for jobs. The official unemployment tally only includes those seeking work. \n",
      " \n",
      " The economy has added 858,000 jobs since December _ the best four months of hiring in two years. But Federal Reserve Chairman Ben Bernanke has cautioned that the current hiring pace is unlikely to continue without more consumer spending.\n",
      "\n",
      "Example 1:\n",
      "Title: – Shelly Sterling plans \"eventually\" to divorce her estranged husband Donald, she tells Barbara Walters at ABC News. As for her stake in the Los Angeles Clippers, she plans to keep it, the AP notes. Sterling says she would \"absolutely\" fight any NBA decision to force her to sell the team. The team is her \"legacy\" to her family, she says. \"To be honest with you, I'm wondering if a wife of one of the owners … said those racial slurs, would they oust the husband? Or would they leave the husband in?\"\n",
      "Article: LOS ANGELES (AP) — In her first interview since the NBA banned her estranged husband, Shelly Sterling says she will fight to keep her share of the Los Angeles Clippers and plans one day to divorce Donald Sterling. \n",
      " \n",
      " (Click Prev or Next to continue viewing images.) \n",
      " \n",
      " ADVERTISEMENT (Click Prev or Next to continue viewing images.) \n",
      " \n",
      " Los Angeles Clippers co-owner Shelly Sterling, below, watches the Clippers play the Oklahoma City Thunder along with her attorney, Pierce O'Donnell, in the first half of Game 3 of the Western Conference... (Associated Press) \n",
      " \n",
      " Shelly Sterling spoke to Barbara Walters, and ABC News posted a short story with excerpts from the conversation Sunday. \n",
      " \n",
      " NBA Commissioner Adam Silver has banned Donald Sterling for making racist comments and urged owners to force Sterling to sell the team. Silver added that no decisions had been made about the rest of Sterling's family. \n",
      " \n",
      " According to ABC's story, Shelly Sterling told Walters: \"I will fight that decision.\" \n",
      " \n",
      " Sterling also said that she \"eventually\" will divorce her husband, and that she hadn't yet done so due to financial considerations. ||||| Shelly Sterling said today that \"eventually, I am going to\" divorce her estranged husband, Donald Sterling, and if the NBA tries to force her to sell her half of the Los Angeles Clippers, she would \"absolutely\" fight to keep her stake in the team. \n",
      " \n",
      " \"I will fight that decision,\" she told ABC News' Barbara Walters today in an exclusive interview. \"To be honest with you, I'm wondering if a wife of one of the owners, and there's 30 owners, did something like that, said those racial slurs, would they oust the husband? Or would they leave the husband in?\" \n",
      " \n",
      " Sterling added that the Clippers franchise is her \"passion\" and \"legacy to my family.\" \n",
      " \n",
      " \"I've been with the team for 33 years, through the good times and the bad times,\" she added. \n",
      " \n",
      " These comments come nearly two weeks after NBA Commissioner Adam Silver announced a lifetime ban and a $2.5 million fine for Donald Sterling on April 29, following racist comments from the 80-year-old, which were caught on tape and released to the media. \n",
      " \n",
      " Read: Barbara Walters' Exclusive Interview With V. Stiviano \n",
      " \n",
      " Being estranged from her husband, Shelly Sterling said she would \"have to accept\" whatever punishment the NBA handed down to him, but that her stake in the team should be separate. \n",
      " \n",
      " \"I was shocked by what he said. And -- well, I guess whatever their decision is -- we have to live with it,\" she said. \"But I don't know why I should be punished for what his actions were.\" \n",
      " \n",
      " An NBA spokesman said this evening that league rules would not allow her tol hold on to her share. \n",
      " \n",
      " \"Under the NBA Constitution, if a controlling owner's interest is terminated by a 3/4 vote, all other team owners' interests are automatically terminated as well,\" NBA spokesman Mike Bass said. \"It doesn't matter whether the owners are related as is the case here. These are the rules to which all NBA owners agreed to as a condition of owning their team.\" \n",
      " \n",
      " Sherry Sterling's lawyer, Pierce O'Donnell, disputed the league's reading of its constitution. \n",
      " \n",
      " \"We do not agree with the league's self-serving interpretation of its constitution, its application to Shelly Sterling or its validity under these unique circumstances,\" O'Donnell said in a statement released this evening in reposnse the NBA. \"We live in a nation of laws. California law and the United States Constitution trump any such interpretation.\" \n",
      " \n",
      " If the league decides to force Donald Sterling to sell his half of the team, Shelly Sterling doesn't know what he will do, but the possibility of him transferring full ownership to her is something she \"would love him to\" consider. \n",
      " \n",
      " Related: NBA Bans Clippers Owner Donald Sterling For Life \n",
      " \n",
      " \"I haven't discussed it with him or talked to him about it,\" she said. \n",
      " \n",
      " The lack of communication between Rochelle and Donald Sterling led Walters to question whether she plans to file for divorce. \n",
      " \n",
      " \"For the last 20 years, I've been seeing attorneys for a divorce,\" she said, laughing. \"In fact, I have here-- I just filed-- I was going to file the petition. I signed the petition for a divorce. And it came to almost being filed. And then, my financial advisor and my attorney said to me, 'Not now.'\" \n",
      " \n",
      " Sterling added that she thinks the stalling of the divorce stems from \"financial arrangements.\" \n",
      " \n",
      " But she said \"Eventually, I'm going to.\" \n",
      " \n",
      " She also told Walters she thinks her estranged husband is suffering from \"the onset of dementia.\" \n",
      " \n",
      " Since Donald Sterling's ban, several celebrities have said they would be willing to buy the team from Sterling, including Oprah Winfrey and Magic Johnson. Sterling remains the owner, though his ban means he can have nothing to do with running the team and can't attend any games. \n",
      " \n",
      " Silver announced Friday that former Citigroup chairman and former Time Warner chairman Richard Parsons has been named interim CEO of the team, but nothing concrete in terms of ownership or whether Sterling will be forced to sell the team. Parsons will now take over the basic daily operations for the team and oversee the team's president. \n",
      " \n",
      " Read: What You Need to Know This Week About Donald Sterling \n",
      " \n",
      " ABC News contacted Donald Sterling for comment on his wife's interview, but he declined.\n",
      "\n",
      "Example 2:\n",
      "Title: – A twin-engine Embraer jet that the FAA describes as \"on approach to Runway 14\" at the Montgomery County Airpark in Gaithersburg, Maryland, crashed into a home this morning, engulfing that home in flames and setting two others on fire. Three people are dead, but the count could grow. A Montgomery County Fire rep says three fliers were killed in the crash, but notes the corporate plane may have had a fourth person on board, reports the AP. A relative of the owner of the home that was hit tells WUSA 9 that a mother with three children pre-school age and under should have been home at the time; there's no word on the family's whereabouts. The crash occurred around 11am on Drop Forge Lane, and the fire was extinguished within an hour. Crews are now searching the wreckage. A witness noted the plane appeared to \"wobble\" before the crash; the airport is no more than 3/4 mile from the crash scene. NTSB and FAA will investigate.\n",
      "Article: GAITHERSBURG, Md. (AP) — A small, private jet has crashed into a house in Maryland's Montgomery County on Monday, killing at least three people on board, authorities said. \n",
      " \n",
      " Preliminary information indicates at least three people were on board and didn't survive the Monday crash into home in Gaithersburg, a Washington, D.C. suburb, said Pete Piringer, a Montgomery County Fire and Rescue spokesman. \n",
      " \n",
      " He said a fourth person may have been aboard. \n",
      " \n",
      " Piringer said the jet crashed into one home around 11 a.m., setting it and two others on fire. Crews had the fire under control within an hour and were searching for anyone who may have been in the homes. \n",
      " \n",
      " Television news footage of the scene showed one home nearly destroyed, with a car in the driveway. Witnesses told television news crews that they saw the airplane appear to struggle to maintain altitude before going into a nosedive and crashing. \n",
      " \n",
      " An FAA spokesman said preliminary information shows the Embraer EMB-500/Phenom 100 twin-engine jet was on approach at the nearby Montgomery County Airpark. The National Transportation Safety Board is sending an investigator to the scene. ||||| Gemmell family (Photo: Facebook) \n",
      " \n",
      " GAITHERSBURG, Md. (WUSA9) -- The investigations into a plane crash that left six people dead in Gaithersburg on Monday evening are just beginning. \n",
      " \n",
      " A mother and her two young children are three of the six lives lost in the crash. \n",
      " \n",
      " Marie Gemmell, 36, her three-year-old son Cole and her infant-son Devin were inside their home when a corporate jet crashed into it. Their bodies were found on the second floor hours after the crash. The father and a third child were not home at the time of the crash. \n",
      " \n",
      " Michael Rosenberg was on the jet that crashed (Photo: Health Decisions) \n",
      " \n",
      " Three people on the jet were also killed, according to Montgomery County fire officials. One of those victims has been identified as Michael Rosenberg, CEO of Health Decisions. You can read their statement here. \n",
      " \n",
      " An Embraer EMB-500/Phenom 100 crashed into a house in the 19700 block of Drop Forge Lane off Snouffer School Road in the neighborhood of Hunters Woods around 10:45 a.m., according to the NTSB. The plane was coming from Chapel Hill, NC and approaching the Montgomery County Air Park. \n",
      " \n",
      " The NTSB has sent a go-team to the site, where three homes were damaged. Firefighters used foam to battle fires all around the scene. The fuselage of the jet is parallel to a second house, and the tail of the airplane is at the front door. One of the wings was catapulted into the Gemmell's house, causing a huge fire and the majority of the damage, according to the NTSB. Senior Investigator Timothy LeBaron is leading the go-team. \n",
      " \n",
      " Investigators are looking at operations, including crew experience, training and procedures, the functionality of the engines, the weather, air traffic control and more, NTSB spokesperson Robert L. Sumwalt said at a press confrence. \n",
      " \n",
      " \"Our mission is to find out not only what happened, but why it happened because we want to make sure something like this never happens again,\" Sumwalt said. \n",
      " \n",
      " MORE: Woman says community feared plane crash \n",
      " \n",
      " \n",
      " \n",
      " NTSB investigators are currently collecting perishable evidence, not determining the cause. They'll be conducting interviews and documenting the wreckage. Investigators could be on the scene for three to seven days for what they call the \"fact-finding\" phase. \n",
      " \n",
      " The black box, which has recordings from the crash, has been recovered. It is in good condition and has been rushed to labs, Sumwalt said. \n",
      " \n",
      " The first call about the crash came in at 10:44 a.m. from the National Guard Armory for the report of an explosion, and units were on the scene in approximately seven minutes, Montgomery County Fire Chief Steve Lohr said at an initial press conference. Utility crews were also on the scene and Lorh said it is safe for residents in the area. Electricity has been temporarily cut off. \n",
      " \n",
      " Recordings of the 911-calls from the crash were released on Monday evening. In the recordings neighbors and witnesses describe the scene where the plane crashed in the Gaithersburg neighborhood. \n",
      " \n",
      " Recordings of the 911 calls from the Gaithersburg plane crash were released on Monday evening. \n",
      " \n",
      " \"We just heard a giant explosion we looked out the window and there's... it looks like a house is on fire, we've got some people running over there to see if people are okay,\" one caller described. \n",
      " \n",
      " \n",
      " \n",
      " RAW: Fire Chief Steve Lohr speaks on plane crash \n",
      " \n",
      " A woman who was traveling into the area after taking a test at Montgomery College tells WUSA9 that she could see the smoke from the crash from I-370. As she got closer, she saw all the emergency response vehicles and called her husband. He told her that the smoke was coming from the area where her mother and stepfather lived and she says she got worried. She discovered the house that was struck was their neighbors' house. She says there are \"three little ones\" who live in that house. \n",
      " \n",
      " One person reported seeing the plane \"wobble\" before it crashed into the house. Other neighbors reported hearing repeated booms and feeling their houses shake from the impact of the plane. \n",
      " \n",
      " Something went wrong with the jet heading to the Montgomery County airport and it went into a house in Gaithersburg \n",
      " \n",
      " WUSA9 spoke with an eyewitness named Jocelyn Brown who said she first heard the plane sputtering, making a sound that planes that go over the area normally don't make flying over the houses. She says she and her mother became concerned and went to investigate. They then saw the plane hit the side of a house. She reported seeing a \"mushroom effect of smoke\" and also hearing three explosions after the plane hit. \n",
      " \n",
      " Jocelyn says they also heard screams in the area of the home. She says she does not know whether they were coming from inside the house or behind them. \n",
      " \n",
      " Jocelyn lives in the area and says she knows the mother that lives there. She described her as a \"sweet woman\" who walks with her kids in the area all the time and speaks to everyone. \n",
      " \n",
      " He said the plane sounded like it was \"puttering\" and then saw fire \n",
      " \n",
      " A woman posted video from the ground of the scene of the plane crash on YouTube. \n",
      " \n",
      " . \n",
      " \n",
      " The FAA has released the following information: \n",
      " \n",
      " \"This is preliminary information about an Embraer EMB-500/Phenom 100 twin-engine jet that crashed one mile north of the Montgomery County Airport, Gaithersburg, MD at 11am today. The aircraft was on approach to Runway 14 at the airport when the accident occurred. Please contact local authorities for information on passengers and the situation on the ground. The FAA will investigate. We will update this statement when new information is available. \" \n",
      " \n",
      " Photo of plane from FlightAware (Photo: FlightAware) \n",
      " \n",
      " An FAA source says the jet was waiting for a much slower single engine aircraft, possibly a Cessna, to make its turn so it could make its approach. That information has not been confirmed by the NTSB. \n",
      " \n",
      " The Montgomery County Air Park is within 1/2 to 3/4 of a mile of the crash. The airport does not have a tower, so communication would have been with Washington Air Traffic Control Section, not the airport. \n",
      " \n",
      " The FAA registry shows that the plane was a corporate Phenom jet with tail number N100EQ. It's registered to Sage Aviation LLC out of Chapel Hill, NC which makes replacement parts for the aviation industry. \n",
      " \n",
      " MORE: Gaithersburg plane crash at Drop Forge Lane, 3 houses suffering some sort of damage, this one the worst @WNEWpic.twitter.com/vihz4k5eYE — JimMacKayWNEW (@JimMacKayWNEW) December 8, 2014 \n",
      " \n",
      " Snouffer School Road was closed between Centerway Road and Goshen Road following the crash. Drivers and pedestrians are being urged to avoid the area. It is likely to remain closed throughout the night and possibly Tuesday. \n",
      " \n",
      " She says something has to be done about planes flying low directly over homes. \n",
      " \n",
      " Read or Share this story: http://on.wusa9.com/1A8PzKE\n",
      "\n",
      "Example 3:\n",
      "Title: – Tucker Carlson is in deep doodoo with conservative women after an ill-advised tweet referencing Sarah Palin that he posted, then removed, Monday night. \"Palin's popularity falling in Iowa, but maintains lead to become supreme commander of Milfistan,\" he tweeted—and we probably don't need to tell you where that is. His first attempt at an apology, which he tweeted the next morning: \"Apparently Charlie Sheen got control of my Twitter account last night while I was at dinner. Apologies for his behavior.” That wasn't good enough for many conservative women, Politico notes, rounding up reactions from bloggers to Michelle Malkin calling his behavior sexist and misogynistic. By late Tuesday, Carlson had offered up a more sincere-sounding apology: “I’m sorry for last night’s tweet. I meant absolutely no offense. Not the first dumb thing I’ve said. Hopefully the last.” But at least one man—Erick Erickson, editor of RedState.com—was on Carlson's side, tweeting his reaction to the post in question: \"I laughed then got out my passport.\"\n",
      "Article: Tucker Carlson Exposes His Own Sexism on Twitter (Updated) \n",
      " \n",
      " Tucker Carlson has done some good work in the past… His site, The Daily Caller, is a frequent stop of mine and many other Conservatives. They were responsible for exposing the Journolist scandal, which highlighted the planning and coordination of many members of the left-wing press. I will always be grateful to Tucker’s team for bringing that story to light. This is also why I am so angered by Tucker’s recent actions. I thought he was better than this. \n",
      " \n",
      " If you haven’t heard by now, Monday evening, Tucker Carlson posted a disturbing tweet about Governor Palin which said: \n",
      " \n",
      " Palin’s popularity falling in Iowa, but maintains lead to become supreme commander of Milfistan \n",
      " \n",
      " Aside from Tucker’s sheep-like response to warped poll numbers, he also failed to take ownership of his sexist comment. He deleted the original (which is why I had to link to a retweet) obviously aware that what he had posted was wrong. Unfortunately for him, many people had already seen it and responded. You can’t put the toothpaste back in the tube, Tucker. \n",
      " \n",
      " Is this the sort of treatment that Conservative women, who want to get involved in the process, are expected to put up with? Is it okay for male columnists (Conservative or otherwise) to continue objectifying women in the world of politics? No it’s not! \n",
      " \n",
      " The best thing Tucker Carlson could do, is admit that what he tweeted was wrong, apologize to Governor Palin, and urge his fellow colleagues to be respectful with their language and written word. What he did was demeaning and offensive, and there is no place for it in Conservative circles. \n",
      " \n",
      " Update: This is a poor attempt at an apology. Tucker Carlson tries to cover his tracks this morning by repeating the same mistakes he made last night. He wrote: \n",
      " \n",
      " Apparently Charlie Sheen got control of my Twitter account last night while I was at dinner. Apologies for his behavior. \n",
      " \n",
      " He didn’t take responsibility for his comment and he fails horribly at humor. Try again, and Tucker… you’re not funny. \n",
      " \n",
      " Update II: Almost a day later, he finally apologizes: \n",
      " \n",
      " I’m sorry for last night’s tweet. I meant absolutely no offense. Not the first dumb thing I’ve said. Hopefully the last. \n",
      " \n",
      " \n",
      " \n",
      " ||||| Tweet with a location \n",
      " \n",
      " You can add location information to your Tweets, such as your city or precise location, from the web and via third-party applications. You always have the option to delete your Tweet location history. Learn more ||||| I am not down with @karlrove @tuckercarlson misogynist mockery of @sarahpalinusa . Sick of it. ||||| On Monday night, while the rest of the world was watching Charlie Sheen flame out live on CNN, Tucker Carlson took to Twitter to make some impolitic statements of his own. \n",
      " \n",
      " \"Palin's popularity falling in Iowa, but maintains lead to become supreme commander of Milfistan,\" he wrote. \n",
      " \n",
      " By the next morning, the tweet was deleted and he had apologized, writing, “Apparently Charlie Sheen got control of my Twitter account last night while I was at dinner. Apologies for his behavior.” \n",
      " \n",
      " But that wasn’t enough to spare him the ire of conservative women on the blogosphere and Twitter. \n",
      " \n",
      " On Tuesday, before Carlson’s first apology, Stacy Drake, writing on Conservatives4Palin, praised Carlson’s works at The Daily Caller, particularly the leaks of the Journolist emails, saying that’s why his tweet stung so badly. \n",
      " \n",
      " Aside from Tucker’s sheep-like response to warped poll numbers, he also failed to take ownership of his sexist comment. He deleted the original (which is why I had to link to a retweet) obviously aware that what he had posted was wrong. Unfortunately for him, many people had already seen it and responded. You can’t put the toothpaste back in the tube, Tucker. \n",
      " \n",
      " \n",
      " \n",
      " Is this the sort of treatment that Conservative women, who want to get involved in the process, are expected to put up with? Is it okay for male columnists (Conservative or otherwise) to continue objectifying women in the world of politics? No it’s not! \n",
      " \n",
      " \n",
      " \n",
      " She was unimpressed with his first apology, and called for him to apologize to Palin while continuing to denounce him for sexism on her Twitter account. \n",
      " \n",
      " Michelle Malkin joined the calls Tuesday, tweeting: “I am not down with @karlrove @tuckercarlson misogynist mockery of @sarahpalinusa. Sick of it.” \n",
      " \n",
      " Later Tuesday, Carlson obliged: “I’m sorry for last night’s tweet. I meant absolutely no offense. Not the first dumb thing I’ve said. Hopefully the last.” \n",
      " \n",
      " Some bros have come to Carlson's aid. Tuesday, Erick Erickson tweeted, \"Maybe my sense of humor needs to be recalibrated, but when I heard @TuckerCarlson's MILFistan comment, I laughed then got out my passport.\" \n",
      " \n",
      " (Needless to say, Drake was not amused.) \n",
      " \n",
      " But by Wednesday, the thing had escalated into a full-blown war of the sexes within the conservative blogosphere, with Whitney Pitcher taking Carlson's tweet as inspiration for her post on Conservatives4Palin: \"MILF–Misogynists (and Elites) I’d Like to Fulminate.\" \n",
      " \n",
      " Perhaps an additional reason that Governor Palin does not win the respect of the Elite and Establishment is that you cannot be praised for your “perfectly creased pants” if you often wear a skirt, right David Brooks? The continued line of attack from the Establishment and Elite men in the GOP have come as a result of Governor Palin’s genetic makeup. \n",
      " \n",
      " This post has been updated to correct the spelling of Stacy Drake's first name.\n",
      "\n",
      "Example 4:\n",
      "Title: – What are the three most horrifying words in the English language? Wrong. The correct answer is \"amateur testicle surgery.\" The BBC reports 56-year-old Allan Matthews pleaded guilty Wednesday to removing another man's left testicle at an Australian motel despite not being qualified to practice medicine. The unsanctioned surgery took place in May after a 52-year-old man posted an ad online seeking help for a medical issue, according to the Sydney Morning Herald. The man was apparently still suffering after being kicked in the groin by a horse years earlier but couldn't afford an actual doctor. A week after Matthews allegedly removed the man's testicle, infection set in. The man went to the hospital, and the police launched an investigation. Authorities say a raid of Matthews' home last month turned up medical equipment, seven guns, and four bottles of what may be amyl nitrate. In addition to performing surgery without being a doctor, Matthews also pleaded guilty to gun and drug charges. He did not plead guilty to inflicting \"reckless grievous bodily harm.\" AAP reports Matthews is out on bail until another hearing next month. (An Oregon man claimed surgery left him with an 80-pound scrotum.)\n",
      "Article: A man accused of removing another man's testicle during a meeting in a Port Macquarie motel room has pleaded guilty to a string of charges. \n",
      " \n",
      " Allan George Matthews, 57, appeared in Port Macquarie Local Court on Wednesday morning for the first time since his arrest in Glen Innes, last month. \n",
      " \n",
      " SHARE \n",
      " \n",
      " Share on Facebook SHARE \n",
      " \n",
      " Share on Twitter TWEET \n",
      " \n",
      " Link A man has pleaded guilty after 'unauthorised' surgery to remove another's testicle. \n",
      " \n",
      " During the proceedings, Matthews' solicitor Douglas Hannaway entered pleas of guilty to removing tissue from the body of another without consent or authority. \n",
      " \n",
      " He has pleaded not guilty to the more serious charge of reckless grievous bodily harm. \n",
      " \n",
      " Magistrate Dominique Burns ordered police to compile a brief of evidence by next month and serve it on Matthews' defence before it returns to court in mid-August. \n",
      " \n",
      " The charges stem from an incident in a motel room in Port Macquarie on May 16. \n",
      " \n",
      " Advertisement \n",
      " \n",
      " Police allege Matthews met a 52-year-old man and surgically removed his left testicle. \n",
      " \n",
      " It is the crown's case that Matthews is not qualified or authorised to perform such a procedure, and is not a qualified or registered medical practitioner. \n",
      " \n",
      " The 52-year-old alleged victim attended the motel room after posting an advertisement online requesting assistance with a medical issue, police claim. \n",
      " \n",
      " After the alleged incident, the man then attended hospital a week later to repair the wound he suffered to his testicle. \n",
      " \n",
      " The hospital visit triggered an investigation by Mid North Coast police who raided Matthews' home in Glen Innes on June 23. \n",
      " \n",
      " They seized medical equipment, electronic equipment, seven firearms and four bottles of what they suspected to be amyl nitrate. \n",
      " \n",
      " In court, Matthews pleaded guilty to not keeping a pistol safely, possessing an unauthorised firearm, not keeping a firearm safely, and two counts of possessing or attempting to prescribe restricted substance. \n",
      " \n",
      " According to court documents, the 57-year-old did not enter a plea to the charge of causing grievous bodily harm. \n",
      " \n",
      " Matthews remains on conditional bail. \n",
      " \n",
      " The Port News ||||| AAP \n",
      " \n",
      " A DIY “doctor” accused of slicing off a man’s testicle in a NSW motel room has pleaded guilty to a charge of illicitly removing another person’s bodily tissue. \n",
      " \n",
      " Police say Allan George Matthews, 56, responded to an online advertisement posted in May by a 52-year-old man requesting help with a medical issue. \n",
      " \n",
      " The two men then met at a motel in Port Macquarie, on the state’s mid-north coast, where the younger man’s left testicle was allegedly surgically removed by Matthews, who police say was not a qualified doctor. \n",
      " \n",
      " A week later, the younger man showed up at hospital seeking help with a wound he had sustained during the illicit operation. \n",
      " \n",
      " Matthews faced Port Macquarie Local Court on Wednesday and entered a guilty plea to a charge of removing tissue from the body of another person without proper consent or authority. \n",
      " \n",
      " He has also admitted charges of possessing a prescribed restricted substance, unauthorised possession of a firearm and failure to keep a firearm safely, but will fight a charge of reckless grievous bodily harm, according to court records. \n",
      " \n",
      " He is yet to enter a plea to the charge of causing grie`vous bodily harm with intent. \n",
      " \n",
      " Matthews will remain on bail until his case returns to court on August 18. ||||| Image caption A man has admitted removing another man's testicle during an \"unauthorised\" surgery \n",
      " \n",
      " An amateur surgeon in Australia has pleaded guilty to removing the left testicle of a man who could not afford professional medical treatment. \n",
      " \n",
      " Allan George Matthews, 56, admitted to \"removing tissue\" from the man \"without consent or authority\" at a motel in Port Macquarie, north of Sydney. \n",
      " \n",
      " Police said the 52-year-old victim posted an online ad \"requesting assistance with a medical issue\". \n",
      " \n",
      " He had been suffering for years after being kicked in the groin by a horse. \n",
      " \n",
      " Police became aware of the case in June when the man attended hospital after the wound he suffered during the operation became infected. \n",
      " \n",
      " Officers raided Matthews' home and seized medical equipment, firearms and four bottles of what they suspected to be amyl nitrate. \n",
      " \n",
      " Prosecutors alleged that Matthews was not authorised to perform such a procedure as he was not a qualified or registered medical practitioner. \n",
      " \n",
      " He also pleaded guilty in court this week to illegally possessing a gun and two counts of possessing or attempting to prescribe a restricted substance.\n",
      "\n"
     ]
    }
   ],
   "source": [
    "for i, example in enumerate(ds[\"train\"]):\n",
    "    if i == 5:\n",
    "        break\n",
    "    print(f\"Example {i}:\")\n",
    "    try:\n",
    "        print(f\"Title: {example['highlights']}\")\n",
    "        print(f\"Article: {example['article']}\")\n",
    "    except:\n",
    "        print(f\"Title: {example['summary']}\")\n",
    "        print(f\"Article: {example['document']}\")\n",
    "    print()"
   ]
  },
  {
   "cell_type": "code",
   "execution_count": 5,
   "metadata": {},
   "outputs": [
    {
     "ename": "KeyError",
     "evalue": "\"Column article not in the dataset. Current columns in the dataset: ['document', 'summary']\"",
     "output_type": "error",
     "traceback": [
      "\u001b[0;31m---------------------------------------------------------------------------\u001b[0m",
      "\u001b[0;31mKeyError\u001b[0m                                  Traceback (most recent call last)",
      "Cell \u001b[0;32mIn[5], line 3\u001b[0m\n\u001b[1;32m      1\u001b[0m \u001b[38;5;28;01mfrom\u001b[39;00m \u001b[38;5;21;01mmatplotlib\u001b[39;00m \u001b[38;5;28;01mimport\u001b[39;00m pyplot \u001b[38;5;28;01mas\u001b[39;00m plt\n\u001b[0;32m----> 3\u001b[0m article_lengths \u001b[38;5;241m=\u001b[39m \u001b[38;5;28mlist\u001b[39m(\u001b[38;5;28mmap\u001b[39m(\u001b[38;5;28mlen\u001b[39m, \u001b[43mds\u001b[49m\u001b[43m[\u001b[49m\u001b[38;5;124;43m\"\u001b[39;49m\u001b[38;5;124;43mtrain\u001b[39;49m\u001b[38;5;124;43m\"\u001b[39;49m\u001b[43m]\u001b[49m\u001b[43m[\u001b[49m\u001b[38;5;124;43m\"\u001b[39;49m\u001b[38;5;124;43marticle\u001b[39;49m\u001b[38;5;124;43m\"\u001b[39;49m\u001b[43m]\u001b[49m))\n\u001b[1;32m      4\u001b[0m highlight_lengths \u001b[38;5;241m=\u001b[39m \u001b[38;5;28mlist\u001b[39m(\u001b[38;5;28mmap\u001b[39m(\u001b[38;5;28mlen\u001b[39m, ds[\u001b[38;5;124m\"\u001b[39m\u001b[38;5;124mtrain\u001b[39m\u001b[38;5;124m\"\u001b[39m][\u001b[38;5;124m\"\u001b[39m\u001b[38;5;124mhighlights\u001b[39m\u001b[38;5;124m\"\u001b[39m]))\n\u001b[1;32m      6\u001b[0m plt\u001b[38;5;241m.\u001b[39mhist(article_lengths, bins\u001b[38;5;241m=\u001b[39m\u001b[38;5;241m100\u001b[39m, alpha\u001b[38;5;241m=\u001b[39m\u001b[38;5;241m0.7\u001b[39m, label\u001b[38;5;241m=\u001b[39m\u001b[38;5;124m\"\u001b[39m\u001b[38;5;124mArticle lengths\u001b[39m\u001b[38;5;124m\"\u001b[39m)\n",
      "File \u001b[0;32m/home/foresti/miniconda3/envs/sedd/lib/python3.10/site-packages/datasets/arrow_dataset.py:2762\u001b[0m, in \u001b[0;36mDataset.__getitem__\u001b[0;34m(self, key)\u001b[0m\n\u001b[1;32m   2760\u001b[0m \u001b[38;5;28;01mdef\u001b[39;00m \u001b[38;5;21m__getitem__\u001b[39m(\u001b[38;5;28mself\u001b[39m, key):  \u001b[38;5;66;03m# noqa: F811\u001b[39;00m\n\u001b[1;32m   2761\u001b[0m \u001b[38;5;250m    \u001b[39m\u001b[38;5;124;03m\"\"\"Can be used to index columns (by string names) or rows (by integer index or iterable of indices or bools).\"\"\"\u001b[39;00m\n\u001b[0;32m-> 2762\u001b[0m     \u001b[38;5;28;01mreturn\u001b[39;00m \u001b[38;5;28;43mself\u001b[39;49m\u001b[38;5;241;43m.\u001b[39;49m\u001b[43m_getitem\u001b[49m\u001b[43m(\u001b[49m\u001b[43mkey\u001b[49m\u001b[43m)\u001b[49m\n",
      "File \u001b[0;32m/home/foresti/miniconda3/envs/sedd/lib/python3.10/site-packages/datasets/arrow_dataset.py:2746\u001b[0m, in \u001b[0;36mDataset._getitem\u001b[0;34m(self, key, **kwargs)\u001b[0m\n\u001b[1;32m   2744\u001b[0m format_kwargs \u001b[38;5;241m=\u001b[39m format_kwargs \u001b[38;5;28;01mif\u001b[39;00m format_kwargs \u001b[38;5;129;01mis\u001b[39;00m \u001b[38;5;129;01mnot\u001b[39;00m \u001b[38;5;28;01mNone\u001b[39;00m \u001b[38;5;28;01melse\u001b[39;00m {}\n\u001b[1;32m   2745\u001b[0m formatter \u001b[38;5;241m=\u001b[39m get_formatter(format_type, features\u001b[38;5;241m=\u001b[39m\u001b[38;5;28mself\u001b[39m\u001b[38;5;241m.\u001b[39m_info\u001b[38;5;241m.\u001b[39mfeatures, \u001b[38;5;241m*\u001b[39m\u001b[38;5;241m*\u001b[39mformat_kwargs)\n\u001b[0;32m-> 2746\u001b[0m pa_subtable \u001b[38;5;241m=\u001b[39m \u001b[43mquery_table\u001b[49m\u001b[43m(\u001b[49m\u001b[38;5;28;43mself\u001b[39;49m\u001b[38;5;241;43m.\u001b[39;49m\u001b[43m_data\u001b[49m\u001b[43m,\u001b[49m\u001b[43m \u001b[49m\u001b[43mkey\u001b[49m\u001b[43m,\u001b[49m\u001b[43m \u001b[49m\u001b[43mindices\u001b[49m\u001b[38;5;241;43m=\u001b[39;49m\u001b[38;5;28;43mself\u001b[39;49m\u001b[38;5;241;43m.\u001b[39;49m\u001b[43m_indices\u001b[49m\u001b[43m)\u001b[49m\n\u001b[1;32m   2747\u001b[0m formatted_output \u001b[38;5;241m=\u001b[39m format_table(\n\u001b[1;32m   2748\u001b[0m     pa_subtable, key, formatter\u001b[38;5;241m=\u001b[39mformatter, format_columns\u001b[38;5;241m=\u001b[39mformat_columns, output_all_columns\u001b[38;5;241m=\u001b[39moutput_all_columns\n\u001b[1;32m   2749\u001b[0m )\n\u001b[1;32m   2750\u001b[0m \u001b[38;5;28;01mreturn\u001b[39;00m formatted_output\n",
      "File \u001b[0;32m/home/foresti/miniconda3/envs/sedd/lib/python3.10/site-packages/datasets/formatting/formatting.py:590\u001b[0m, in \u001b[0;36mquery_table\u001b[0;34m(table, key, indices)\u001b[0m\n\u001b[1;32m    588\u001b[0m         _raise_bad_key_type(key)\n\u001b[1;32m    589\u001b[0m \u001b[38;5;28;01mif\u001b[39;00m \u001b[38;5;28misinstance\u001b[39m(key, \u001b[38;5;28mstr\u001b[39m):\n\u001b[0;32m--> 590\u001b[0m     \u001b[43m_check_valid_column_key\u001b[49m\u001b[43m(\u001b[49m\u001b[43mkey\u001b[49m\u001b[43m,\u001b[49m\u001b[43m \u001b[49m\u001b[43mtable\u001b[49m\u001b[38;5;241;43m.\u001b[39;49m\u001b[43mcolumn_names\u001b[49m\u001b[43m)\u001b[49m\n\u001b[1;32m    591\u001b[0m \u001b[38;5;28;01melse\u001b[39;00m:\n\u001b[1;32m    592\u001b[0m     size \u001b[38;5;241m=\u001b[39m indices\u001b[38;5;241m.\u001b[39mnum_rows \u001b[38;5;28;01mif\u001b[39;00m indices \u001b[38;5;129;01mis\u001b[39;00m \u001b[38;5;129;01mnot\u001b[39;00m \u001b[38;5;28;01mNone\u001b[39;00m \u001b[38;5;28;01melse\u001b[39;00m table\u001b[38;5;241m.\u001b[39mnum_rows\n",
      "File \u001b[0;32m/home/foresti/miniconda3/envs/sedd/lib/python3.10/site-packages/datasets/formatting/formatting.py:527\u001b[0m, in \u001b[0;36m_check_valid_column_key\u001b[0;34m(key, columns)\u001b[0m\n\u001b[1;32m    525\u001b[0m \u001b[38;5;28;01mdef\u001b[39;00m \u001b[38;5;21m_check_valid_column_key\u001b[39m(key: \u001b[38;5;28mstr\u001b[39m, columns: List[\u001b[38;5;28mstr\u001b[39m]) \u001b[38;5;241m-\u001b[39m\u001b[38;5;241m>\u001b[39m \u001b[38;5;28;01mNone\u001b[39;00m:\n\u001b[1;32m    526\u001b[0m     \u001b[38;5;28;01mif\u001b[39;00m key \u001b[38;5;129;01mnot\u001b[39;00m \u001b[38;5;129;01min\u001b[39;00m columns:\n\u001b[0;32m--> 527\u001b[0m         \u001b[38;5;28;01mraise\u001b[39;00m \u001b[38;5;167;01mKeyError\u001b[39;00m(\u001b[38;5;124mf\u001b[39m\u001b[38;5;124m\"\u001b[39m\u001b[38;5;124mColumn \u001b[39m\u001b[38;5;132;01m{\u001b[39;00mkey\u001b[38;5;132;01m}\u001b[39;00m\u001b[38;5;124m not in the dataset. Current columns in the dataset: \u001b[39m\u001b[38;5;132;01m{\u001b[39;00mcolumns\u001b[38;5;132;01m}\u001b[39;00m\u001b[38;5;124m\"\u001b[39m)\n",
      "\u001b[0;31mKeyError\u001b[0m: \"Column article not in the dataset. Current columns in the dataset: ['document', 'summary']\""
     ]
    }
   ],
   "source": [
    "from matplotlib import pyplot as plt\n",
    "\n",
    "article_lengths = list(map(len, ds[\"train\"][\"article\"]))\n",
    "highlight_lengths = list(map(len, ds[\"train\"][\"highlights\"]))\n",
    "\n",
    "plt.hist(article_lengths, bins=100, alpha=0.7, label=\"Article lengths\")\n",
    "plt.hist(highlight_lengths, bins=100, alpha=0.7, label=\"Highlight lengths\")\n",
    "plt.legend()"
   ]
  },
  {
   "cell_type": "code",
   "execution_count": null,
   "metadata": {},
   "outputs": [
    {
     "data": {
      "application/vnd.jupyter.widget-view+json": {
       "model_id": "9318def5e70d49759d7fbd03d3ac63ec",
       "version_major": 2,
       "version_minor": 0
      },
      "text/plain": [
       "README.md:   0%|          | 0.00/15.6k [00:00<?, ?B/s]"
      ]
     },
     "metadata": {},
     "output_type": "display_data"
    },
    {
     "data": {
      "application/vnd.jupyter.widget-view+json": {
       "model_id": "17e1afc95e1643ffada4eaee1ecd230b",
       "version_major": 2,
       "version_minor": 0
      },
      "text/plain": [
       "train-00000-of-00003.parquet:   0%|          | 0.00/257M [00:00<?, ?B/s]"
      ]
     },
     "metadata": {},
     "output_type": "display_data"
    },
    {
     "data": {
      "application/vnd.jupyter.widget-view+json": {
       "model_id": "7c6eebe85e404a39b8f8c52f5f2a443d",
       "version_major": 2,
       "version_minor": 0
      },
      "text/plain": [
       "train-00001-of-00003.parquet:   0%|          | 0.00/257M [00:00<?, ?B/s]"
      ]
     },
     "metadata": {},
     "output_type": "display_data"
    },
    {
     "data": {
      "application/vnd.jupyter.widget-view+json": {
       "model_id": "1848f8dc494f4423b03eabd40b7edca9",
       "version_major": 2,
       "version_minor": 0
      },
      "text/plain": [
       "train-00002-of-00003.parquet:   0%|          | 0.00/259M [00:00<?, ?B/s]"
      ]
     },
     "metadata": {},
     "output_type": "display_data"
    },
    {
     "data": {
      "application/vnd.jupyter.widget-view+json": {
       "model_id": "59c6b281a4e54154bd1560ab16bb5bad",
       "version_major": 2,
       "version_minor": 0
      },
      "text/plain": [
       "validation-00000-of-00001.parquet:   0%|          | 0.00/34.7M [00:00<?, ?B/s]"
      ]
     },
     "metadata": {},
     "output_type": "display_data"
    },
    {
     "data": {
      "application/vnd.jupyter.widget-view+json": {
       "model_id": "d5e6afd2ef61414b90b33fbae50317a4",
       "version_major": 2,
       "version_minor": 0
      },
      "text/plain": [
       "test-00000-of-00001.parquet:   0%|          | 0.00/30.0M [00:00<?, ?B/s]"
      ]
     },
     "metadata": {},
     "output_type": "display_data"
    },
    {
     "data": {
      "application/vnd.jupyter.widget-view+json": {
       "model_id": "af2f232afec5409ab77bdb37730ca6a1",
       "version_major": 2,
       "version_minor": 0
      },
      "text/plain": [
       "Generating train split:   0%|          | 0/287113 [00:00<?, ? examples/s]"
      ]
     },
     "metadata": {},
     "output_type": "display_data"
    },
    {
     "ename": "DatasetGenerationError",
     "evalue": "An error occurred while generating the dataset",
     "output_type": "error",
     "traceback": [
      "\u001b[0;31m---------------------------------------------------------------------------\u001b[0m",
      "\u001b[0;31mOSError\u001b[0m                                   Traceback (most recent call last)",
      "File \u001b[0;32m/home/foresti/miniconda3/envs/sedd/lib/python3.10/site-packages/datasets/builder.py:1862\u001b[0m, in \u001b[0;36mArrowBasedBuilder._prepare_split_single\u001b[0;34m(self, gen_kwargs, fpath, file_format, max_shard_size, job_id)\u001b[0m\n\u001b[1;32m   1861\u001b[0m     shard_id \u001b[38;5;241m+\u001b[39m\u001b[38;5;241m=\u001b[39m \u001b[38;5;241m1\u001b[39m\n\u001b[0;32m-> 1862\u001b[0m     writer \u001b[38;5;241m=\u001b[39m \u001b[43mwriter_class\u001b[49m\u001b[43m(\u001b[49m\n\u001b[1;32m   1863\u001b[0m \u001b[43m        \u001b[49m\u001b[43mfeatures\u001b[49m\u001b[38;5;241;43m=\u001b[39;49m\u001b[43mwriter\u001b[49m\u001b[38;5;241;43m.\u001b[39;49m\u001b[43m_features\u001b[49m\u001b[43m,\u001b[49m\n\u001b[1;32m   1864\u001b[0m \u001b[43m        \u001b[49m\u001b[43mpath\u001b[49m\u001b[38;5;241;43m=\u001b[39;49m\u001b[43mfpath\u001b[49m\u001b[38;5;241;43m.\u001b[39;49m\u001b[43mreplace\u001b[49m\u001b[43m(\u001b[49m\u001b[38;5;124;43m\"\u001b[39;49m\u001b[38;5;124;43mSSSSS\u001b[39;49m\u001b[38;5;124;43m\"\u001b[39;49m\u001b[43m,\u001b[49m\u001b[43m \u001b[49m\u001b[38;5;124;43mf\u001b[39;49m\u001b[38;5;124;43m\"\u001b[39;49m\u001b[38;5;132;43;01m{\u001b[39;49;00m\u001b[43mshard_id\u001b[49m\u001b[38;5;132;43;01m:\u001b[39;49;00m\u001b[38;5;124;43m05d\u001b[39;49m\u001b[38;5;132;43;01m}\u001b[39;49;00m\u001b[38;5;124;43m\"\u001b[39;49m\u001b[43m)\u001b[49m\u001b[38;5;241;43m.\u001b[39;49m\u001b[43mreplace\u001b[49m\u001b[43m(\u001b[49m\u001b[38;5;124;43m\"\u001b[39;49m\u001b[38;5;124;43mJJJJJ\u001b[39;49m\u001b[38;5;124;43m\"\u001b[39;49m\u001b[43m,\u001b[49m\u001b[43m \u001b[49m\u001b[38;5;124;43mf\u001b[39;49m\u001b[38;5;124;43m\"\u001b[39;49m\u001b[38;5;132;43;01m{\u001b[39;49;00m\u001b[43mjob_id\u001b[49m\u001b[38;5;132;43;01m:\u001b[39;49;00m\u001b[38;5;124;43m05d\u001b[39;49m\u001b[38;5;132;43;01m}\u001b[39;49;00m\u001b[38;5;124;43m\"\u001b[39;49m\u001b[43m)\u001b[49m\u001b[43m,\u001b[49m\n\u001b[1;32m   1865\u001b[0m \u001b[43m        \u001b[49m\u001b[43mwriter_batch_size\u001b[49m\u001b[38;5;241;43m=\u001b[39;49m\u001b[38;5;28;43mself\u001b[39;49m\u001b[38;5;241;43m.\u001b[39;49m\u001b[43m_writer_batch_size\u001b[49m\u001b[43m,\u001b[49m\n\u001b[1;32m   1866\u001b[0m \u001b[43m        \u001b[49m\u001b[43mstorage_options\u001b[49m\u001b[38;5;241;43m=\u001b[39;49m\u001b[38;5;28;43mself\u001b[39;49m\u001b[38;5;241;43m.\u001b[39;49m\u001b[43m_fs\u001b[49m\u001b[38;5;241;43m.\u001b[39;49m\u001b[43mstorage_options\u001b[49m\u001b[43m,\u001b[49m\n\u001b[1;32m   1867\u001b[0m \u001b[43m        \u001b[49m\u001b[43membed_local_files\u001b[49m\u001b[38;5;241;43m=\u001b[39;49m\u001b[43membed_local_files\u001b[49m\u001b[43m,\u001b[49m\n\u001b[1;32m   1868\u001b[0m \u001b[43m    \u001b[49m\u001b[43m)\u001b[49m\n\u001b[1;32m   1869\u001b[0m \u001b[38;5;28;01mtry\u001b[39;00m:\n",
      "File \u001b[0;32m/home/foresti/miniconda3/envs/sedd/lib/python3.10/site-packages/datasets/arrow_writer.py:373\u001b[0m, in \u001b[0;36mArrowWriter.__init__\u001b[0;34m(self, schema, features, path, stream, fingerprint, writer_batch_size, hash_salt, check_duplicates, disable_nullable, update_features, with_metadata, unit, embed_local_files, storage_options)\u001b[0m\n\u001b[1;32m    372\u001b[0m \u001b[38;5;28mself\u001b[39m\u001b[38;5;241m.\u001b[39m_path \u001b[38;5;241m=\u001b[39m path \u001b[38;5;28;01mif\u001b[39;00m \u001b[38;5;129;01mnot\u001b[39;00m is_remote_filesystem(\u001b[38;5;28mself\u001b[39m\u001b[38;5;241m.\u001b[39m_fs) \u001b[38;5;28;01melse\u001b[39;00m \u001b[38;5;28mself\u001b[39m\u001b[38;5;241m.\u001b[39m_fs\u001b[38;5;241m.\u001b[39munstrip_protocol(path)\n\u001b[0;32m--> 373\u001b[0m \u001b[38;5;28mself\u001b[39m\u001b[38;5;241m.\u001b[39mstream \u001b[38;5;241m=\u001b[39m \u001b[38;5;28;43mself\u001b[39;49m\u001b[38;5;241;43m.\u001b[39;49m\u001b[43m_fs\u001b[49m\u001b[38;5;241;43m.\u001b[39;49m\u001b[43mopen\u001b[49m\u001b[43m(\u001b[49m\u001b[43mpath\u001b[49m\u001b[43m,\u001b[49m\u001b[43m \u001b[49m\u001b[38;5;124;43m\"\u001b[39;49m\u001b[38;5;124;43mwb\u001b[39;49m\u001b[38;5;124;43m\"\u001b[39;49m\u001b[43m)\u001b[49m\n\u001b[1;32m    374\u001b[0m \u001b[38;5;28mself\u001b[39m\u001b[38;5;241m.\u001b[39m_closable_stream \u001b[38;5;241m=\u001b[39m \u001b[38;5;28;01mTrue\u001b[39;00m\n",
      "File \u001b[0;32m/home/foresti/miniconda3/envs/sedd/lib/python3.10/site-packages/fsspec/spec.py:1303\u001b[0m, in \u001b[0;36mAbstractFileSystem.open\u001b[0;34m(self, path, mode, block_size, cache_options, compression, **kwargs)\u001b[0m\n\u001b[1;32m   1302\u001b[0m ac \u001b[38;5;241m=\u001b[39m kwargs\u001b[38;5;241m.\u001b[39mpop(\u001b[38;5;124m\"\u001b[39m\u001b[38;5;124mautocommit\u001b[39m\u001b[38;5;124m\"\u001b[39m, \u001b[38;5;129;01mnot\u001b[39;00m \u001b[38;5;28mself\u001b[39m\u001b[38;5;241m.\u001b[39m_intrans)\n\u001b[0;32m-> 1303\u001b[0m f \u001b[38;5;241m=\u001b[39m \u001b[38;5;28;43mself\u001b[39;49m\u001b[38;5;241;43m.\u001b[39;49m\u001b[43m_open\u001b[49m\u001b[43m(\u001b[49m\n\u001b[1;32m   1304\u001b[0m \u001b[43m    \u001b[49m\u001b[43mpath\u001b[49m\u001b[43m,\u001b[49m\n\u001b[1;32m   1305\u001b[0m \u001b[43m    \u001b[49m\u001b[43mmode\u001b[49m\u001b[38;5;241;43m=\u001b[39;49m\u001b[43mmode\u001b[49m\u001b[43m,\u001b[49m\n\u001b[1;32m   1306\u001b[0m \u001b[43m    \u001b[49m\u001b[43mblock_size\u001b[49m\u001b[38;5;241;43m=\u001b[39;49m\u001b[43mblock_size\u001b[49m\u001b[43m,\u001b[49m\n\u001b[1;32m   1307\u001b[0m \u001b[43m    \u001b[49m\u001b[43mautocommit\u001b[49m\u001b[38;5;241;43m=\u001b[39;49m\u001b[43mac\u001b[49m\u001b[43m,\u001b[49m\n\u001b[1;32m   1308\u001b[0m \u001b[43m    \u001b[49m\u001b[43mcache_options\u001b[49m\u001b[38;5;241;43m=\u001b[39;49m\u001b[43mcache_options\u001b[49m\u001b[43m,\u001b[49m\n\u001b[1;32m   1309\u001b[0m \u001b[43m    \u001b[49m\u001b[38;5;241;43m*\u001b[39;49m\u001b[38;5;241;43m*\u001b[39;49m\u001b[43mkwargs\u001b[49m\u001b[43m,\u001b[49m\n\u001b[1;32m   1310\u001b[0m \u001b[43m\u001b[49m\u001b[43m)\u001b[49m\n\u001b[1;32m   1311\u001b[0m \u001b[38;5;28;01mif\u001b[39;00m compression \u001b[38;5;129;01mis\u001b[39;00m \u001b[38;5;129;01mnot\u001b[39;00m \u001b[38;5;28;01mNone\u001b[39;00m:\n",
      "File \u001b[0;32m/home/foresti/miniconda3/envs/sedd/lib/python3.10/site-packages/fsspec/implementations/local.py:195\u001b[0m, in \u001b[0;36mLocalFileSystem._open\u001b[0;34m(self, path, mode, block_size, **kwargs)\u001b[0m\n\u001b[1;32m    194\u001b[0m     \u001b[38;5;28mself\u001b[39m\u001b[38;5;241m.\u001b[39mmakedirs(\u001b[38;5;28mself\u001b[39m\u001b[38;5;241m.\u001b[39m_parent(path), exist_ok\u001b[38;5;241m=\u001b[39m\u001b[38;5;28;01mTrue\u001b[39;00m)\n\u001b[0;32m--> 195\u001b[0m \u001b[38;5;28;01mreturn\u001b[39;00m \u001b[43mLocalFileOpener\u001b[49m\u001b[43m(\u001b[49m\u001b[43mpath\u001b[49m\u001b[43m,\u001b[49m\u001b[43m \u001b[49m\u001b[43mmode\u001b[49m\u001b[43m,\u001b[49m\u001b[43m \u001b[49m\u001b[43mfs\u001b[49m\u001b[38;5;241;43m=\u001b[39;49m\u001b[38;5;28;43mself\u001b[39;49m\u001b[43m,\u001b[49m\u001b[43m \u001b[49m\u001b[38;5;241;43m*\u001b[39;49m\u001b[38;5;241;43m*\u001b[39;49m\u001b[43mkwargs\u001b[49m\u001b[43m)\u001b[49m\n",
      "File \u001b[0;32m/home/foresti/miniconda3/envs/sedd/lib/python3.10/site-packages/fsspec/implementations/local.py:359\u001b[0m, in \u001b[0;36mLocalFileOpener.__init__\u001b[0;34m(self, path, mode, autocommit, fs, compression, **kwargs)\u001b[0m\n\u001b[1;32m    358\u001b[0m \u001b[38;5;28mself\u001b[39m\u001b[38;5;241m.\u001b[39mblocksize \u001b[38;5;241m=\u001b[39m io\u001b[38;5;241m.\u001b[39mDEFAULT_BUFFER_SIZE\n\u001b[0;32m--> 359\u001b[0m \u001b[38;5;28;43mself\u001b[39;49m\u001b[38;5;241;43m.\u001b[39;49m\u001b[43m_open\u001b[49m\u001b[43m(\u001b[49m\u001b[43m)\u001b[49m\n",
      "File \u001b[0;32m/home/foresti/miniconda3/envs/sedd/lib/python3.10/site-packages/fsspec/implementations/local.py:364\u001b[0m, in \u001b[0;36mLocalFileOpener._open\u001b[0;34m(self)\u001b[0m\n\u001b[1;32m    363\u001b[0m \u001b[38;5;28;01mif\u001b[39;00m \u001b[38;5;28mself\u001b[39m\u001b[38;5;241m.\u001b[39mautocommit \u001b[38;5;129;01mor\u001b[39;00m \u001b[38;5;124m\"\u001b[39m\u001b[38;5;124mw\u001b[39m\u001b[38;5;124m\"\u001b[39m \u001b[38;5;129;01mnot\u001b[39;00m \u001b[38;5;129;01min\u001b[39;00m \u001b[38;5;28mself\u001b[39m\u001b[38;5;241m.\u001b[39mmode:\n\u001b[0;32m--> 364\u001b[0m     \u001b[38;5;28mself\u001b[39m\u001b[38;5;241m.\u001b[39mf \u001b[38;5;241m=\u001b[39m \u001b[38;5;28;43mopen\u001b[39;49m\u001b[43m(\u001b[49m\u001b[38;5;28;43mself\u001b[39;49m\u001b[38;5;241;43m.\u001b[39;49m\u001b[43mpath\u001b[49m\u001b[43m,\u001b[49m\u001b[43m \u001b[49m\u001b[43mmode\u001b[49m\u001b[38;5;241;43m=\u001b[39;49m\u001b[38;5;28;43mself\u001b[39;49m\u001b[38;5;241;43m.\u001b[39;49m\u001b[43mmode\u001b[49m\u001b[43m)\u001b[49m\n\u001b[1;32m    365\u001b[0m     \u001b[38;5;28;01mif\u001b[39;00m \u001b[38;5;28mself\u001b[39m\u001b[38;5;241m.\u001b[39mcompression:\n",
      "\u001b[0;31mOSError\u001b[0m: [Errno 122] Disk quota exceeded: '/homes/foresti/.cache/huggingface/datasets/cnn_dailymail/3.0.0/0.0.0/96df5e686bee6baa90b8bee7c28b81fa3fa6223d.incomplete/cnn_dailymail-train-00000-00002-of-NNNNN.arrow'",
      "\nDuring handling of the above exception, another exception occurred:\n",
      "\u001b[0;31mValueError\u001b[0m                                Traceback (most recent call last)",
      "File \u001b[0;32m/home/foresti/miniconda3/envs/sedd/lib/python3.10/site-packages/datasets/builder.py:1886\u001b[0m, in \u001b[0;36mArrowBasedBuilder._prepare_split_single\u001b[0;34m(self, gen_kwargs, fpath, file_format, max_shard_size, job_id)\u001b[0m\n\u001b[1;32m   1885\u001b[0m num_shards \u001b[38;5;241m=\u001b[39m shard_id \u001b[38;5;241m+\u001b[39m \u001b[38;5;241m1\u001b[39m\n\u001b[0;32m-> 1886\u001b[0m num_examples, num_bytes \u001b[38;5;241m=\u001b[39m \u001b[43mwriter\u001b[49m\u001b[38;5;241;43m.\u001b[39;49m\u001b[43mfinalize\u001b[49m\u001b[43m(\u001b[49m\u001b[43m)\u001b[49m\n\u001b[1;32m   1887\u001b[0m writer\u001b[38;5;241m.\u001b[39mclose()\n",
      "File \u001b[0;32m/home/foresti/miniconda3/envs/sedd/lib/python3.10/site-packages/datasets/arrow_writer.py:639\u001b[0m, in \u001b[0;36mArrowWriter.finalize\u001b[0;34m(self, close_stream)\u001b[0m\n\u001b[1;32m    638\u001b[0m \u001b[38;5;28;01mif\u001b[39;00m \u001b[38;5;28mself\u001b[39m\u001b[38;5;241m.\u001b[39mpa_writer \u001b[38;5;129;01mis\u001b[39;00m \u001b[38;5;28;01mNone\u001b[39;00m \u001b[38;5;129;01mand\u001b[39;00m \u001b[38;5;28mself\u001b[39m\u001b[38;5;241m.\u001b[39mschema:\n\u001b[0;32m--> 639\u001b[0m     \u001b[38;5;28;43mself\u001b[39;49m\u001b[38;5;241;43m.\u001b[39;49m\u001b[43m_build_writer\u001b[49m\u001b[43m(\u001b[49m\u001b[38;5;28;43mself\u001b[39;49m\u001b[38;5;241;43m.\u001b[39;49m\u001b[43mschema\u001b[49m\u001b[43m)\u001b[49m\n\u001b[1;32m    640\u001b[0m \u001b[38;5;28;01mif\u001b[39;00m \u001b[38;5;28mself\u001b[39m\u001b[38;5;241m.\u001b[39mpa_writer \u001b[38;5;129;01mis\u001b[39;00m \u001b[38;5;129;01mnot\u001b[39;00m \u001b[38;5;28;01mNone\u001b[39;00m:\n",
      "File \u001b[0;32m/home/foresti/miniconda3/envs/sedd/lib/python3.10/site-packages/datasets/arrow_writer.py:441\u001b[0m, in \u001b[0;36mArrowWriter._build_writer\u001b[0;34m(self, inferred_schema)\u001b[0m\n\u001b[1;32m    440\u001b[0m \u001b[38;5;28mself\u001b[39m\u001b[38;5;241m.\u001b[39m_schema \u001b[38;5;241m=\u001b[39m schema\n\u001b[0;32m--> 441\u001b[0m \u001b[38;5;28mself\u001b[39m\u001b[38;5;241m.\u001b[39mpa_writer \u001b[38;5;241m=\u001b[39m \u001b[38;5;28;43mself\u001b[39;49m\u001b[38;5;241;43m.\u001b[39;49m\u001b[43m_WRITER_CLASS\u001b[49m\u001b[43m(\u001b[49m\u001b[38;5;28;43mself\u001b[39;49m\u001b[38;5;241;43m.\u001b[39;49m\u001b[43mstream\u001b[49m\u001b[43m,\u001b[49m\u001b[43m \u001b[49m\u001b[43mschema\u001b[49m\u001b[43m)\u001b[49m\n",
      "File \u001b[0;32m/home/foresti/miniconda3/envs/sedd/lib/python3.10/site-packages/pyarrow/ipc.py:85\u001b[0m, in \u001b[0;36mRecordBatchStreamWriter.__init__\u001b[0;34m(self, sink, schema, use_legacy_format, options)\u001b[0m\n\u001b[1;32m     84\u001b[0m options \u001b[38;5;241m=\u001b[39m _get_legacy_format_default(use_legacy_format, options)\n\u001b[0;32m---> 85\u001b[0m \u001b[38;5;28;43mself\u001b[39;49m\u001b[38;5;241;43m.\u001b[39;49m\u001b[43m_open\u001b[49m\u001b[43m(\u001b[49m\u001b[43msink\u001b[49m\u001b[43m,\u001b[49m\u001b[43m \u001b[49m\u001b[43mschema\u001b[49m\u001b[43m,\u001b[49m\u001b[43m \u001b[49m\u001b[43moptions\u001b[49m\u001b[38;5;241;43m=\u001b[39;49m\u001b[43moptions\u001b[49m\u001b[43m)\u001b[49m\n",
      "File \u001b[0;32m/home/foresti/miniconda3/envs/sedd/lib/python3.10/site-packages/pyarrow/ipc.pxi:582\u001b[0m, in \u001b[0;36mpyarrow.lib._RecordBatchStreamWriter._open\u001b[0;34m()\u001b[0m\n",
      "File \u001b[0;32m/home/foresti/miniconda3/envs/sedd/lib/python3.10/site-packages/pyarrow/io.pxi:2214\u001b[0m, in \u001b[0;36mpyarrow.lib.get_writer\u001b[0;34m()\u001b[0m\n",
      "File \u001b[0;32m/home/foresti/miniconda3/envs/sedd/lib/python3.10/site-packages/pyarrow/io.pxi:232\u001b[0m, in \u001b[0;36mpyarrow.lib.NativeFile.get_output_stream\u001b[0;34m()\u001b[0m\n",
      "File \u001b[0;32m/home/foresti/miniconda3/envs/sedd/lib/python3.10/site-packages/pyarrow/io.pxi:246\u001b[0m, in \u001b[0;36mpyarrow.lib.NativeFile._assert_writable\u001b[0;34m()\u001b[0m\n",
      "File \u001b[0;32m/home/foresti/miniconda3/envs/sedd/lib/python3.10/site-packages/pyarrow/io.pxi:237\u001b[0m, in \u001b[0;36mpyarrow.lib.NativeFile._assert_open\u001b[0;34m()\u001b[0m\n",
      "\u001b[0;31mValueError\u001b[0m: I/O operation on closed file",
      "\nThe above exception was the direct cause of the following exception:\n",
      "\u001b[0;31mDatasetGenerationError\u001b[0m                    Traceback (most recent call last)",
      "Cell \u001b[0;32mIn[20], line 6\u001b[0m\n\u001b[1;32m      3\u001b[0m \u001b[38;5;28;01mfrom\u001b[39;00m \u001b[38;5;21;01mtqdm\u001b[39;00m \u001b[38;5;28;01mimport\u001b[39;00m tqdm\n\u001b[1;32m      5\u001b[0m \u001b[38;5;66;03m# Load a dataset (e.g., the 'cnn_dailymail' dataset)\u001b[39;00m\n\u001b[0;32m----> 6\u001b[0m dataset \u001b[38;5;241m=\u001b[39m \u001b[43mload_dataset\u001b[49m\u001b[43m(\u001b[49m\u001b[38;5;124;43m'\u001b[39;49m\u001b[38;5;124;43mcnn_dailymail\u001b[39;49m\u001b[38;5;124;43m'\u001b[39;49m\u001b[43m,\u001b[49m\u001b[43m \u001b[49m\u001b[38;5;124;43m'\u001b[39;49m\u001b[38;5;124;43m3.0.0\u001b[39;49m\u001b[38;5;124;43m'\u001b[39;49m\u001b[43m)\u001b[49m\n\u001b[1;32m      9\u001b[0m tokenizer \u001b[38;5;241m=\u001b[39m GPT2TokenizerFast\u001b[38;5;241m.\u001b[39mfrom_pretrained(\u001b[38;5;124m\"\u001b[39m\u001b[38;5;124mgpt2\u001b[39m\u001b[38;5;124m\"\u001b[39m)\n\u001b[1;32m     11\u001b[0m \u001b[38;5;66;03m# Define the max_length for tokenization\u001b[39;00m\n",
      "File \u001b[0;32m/home/foresti/miniconda3/envs/sedd/lib/python3.10/site-packages/datasets/load.py:2154\u001b[0m, in \u001b[0;36mload_dataset\u001b[0;34m(path, name, data_dir, data_files, split, cache_dir, features, download_config, download_mode, verification_mode, keep_in_memory, save_infos, revision, token, streaming, num_proc, storage_options, trust_remote_code, **config_kwargs)\u001b[0m\n\u001b[1;32m   2151\u001b[0m     \u001b[38;5;28;01mreturn\u001b[39;00m builder_instance\u001b[38;5;241m.\u001b[39mas_streaming_dataset(split\u001b[38;5;241m=\u001b[39msplit)\n\u001b[1;32m   2153\u001b[0m \u001b[38;5;66;03m# Download and prepare data\u001b[39;00m\n\u001b[0;32m-> 2154\u001b[0m \u001b[43mbuilder_instance\u001b[49m\u001b[38;5;241;43m.\u001b[39;49m\u001b[43mdownload_and_prepare\u001b[49m\u001b[43m(\u001b[49m\n\u001b[1;32m   2155\u001b[0m \u001b[43m    \u001b[49m\u001b[43mdownload_config\u001b[49m\u001b[38;5;241;43m=\u001b[39;49m\u001b[43mdownload_config\u001b[49m\u001b[43m,\u001b[49m\n\u001b[1;32m   2156\u001b[0m \u001b[43m    \u001b[49m\u001b[43mdownload_mode\u001b[49m\u001b[38;5;241;43m=\u001b[39;49m\u001b[43mdownload_mode\u001b[49m\u001b[43m,\u001b[49m\n\u001b[1;32m   2157\u001b[0m \u001b[43m    \u001b[49m\u001b[43mverification_mode\u001b[49m\u001b[38;5;241;43m=\u001b[39;49m\u001b[43mverification_mode\u001b[49m\u001b[43m,\u001b[49m\n\u001b[1;32m   2158\u001b[0m \u001b[43m    \u001b[49m\u001b[43mnum_proc\u001b[49m\u001b[38;5;241;43m=\u001b[39;49m\u001b[43mnum_proc\u001b[49m\u001b[43m,\u001b[49m\n\u001b[1;32m   2159\u001b[0m \u001b[43m    \u001b[49m\u001b[43mstorage_options\u001b[49m\u001b[38;5;241;43m=\u001b[39;49m\u001b[43mstorage_options\u001b[49m\u001b[43m,\u001b[49m\n\u001b[1;32m   2160\u001b[0m \u001b[43m\u001b[49m\u001b[43m)\u001b[49m\n\u001b[1;32m   2162\u001b[0m \u001b[38;5;66;03m# Build dataset for splits\u001b[39;00m\n\u001b[1;32m   2163\u001b[0m keep_in_memory \u001b[38;5;241m=\u001b[39m (\n\u001b[1;32m   2164\u001b[0m     keep_in_memory \u001b[38;5;28;01mif\u001b[39;00m keep_in_memory \u001b[38;5;129;01mis\u001b[39;00m \u001b[38;5;129;01mnot\u001b[39;00m \u001b[38;5;28;01mNone\u001b[39;00m \u001b[38;5;28;01melse\u001b[39;00m is_small_dataset(builder_instance\u001b[38;5;241m.\u001b[39minfo\u001b[38;5;241m.\u001b[39mdataset_size)\n\u001b[1;32m   2165\u001b[0m )\n",
      "File \u001b[0;32m/home/foresti/miniconda3/envs/sedd/lib/python3.10/site-packages/datasets/builder.py:924\u001b[0m, in \u001b[0;36mDatasetBuilder.download_and_prepare\u001b[0;34m(self, output_dir, download_config, download_mode, verification_mode, dl_manager, base_path, file_format, max_shard_size, num_proc, storage_options, **download_and_prepare_kwargs)\u001b[0m\n\u001b[1;32m    922\u001b[0m \u001b[38;5;28;01mif\u001b[39;00m num_proc \u001b[38;5;129;01mis\u001b[39;00m \u001b[38;5;129;01mnot\u001b[39;00m \u001b[38;5;28;01mNone\u001b[39;00m:\n\u001b[1;32m    923\u001b[0m     prepare_split_kwargs[\u001b[38;5;124m\"\u001b[39m\u001b[38;5;124mnum_proc\u001b[39m\u001b[38;5;124m\"\u001b[39m] \u001b[38;5;241m=\u001b[39m num_proc\n\u001b[0;32m--> 924\u001b[0m \u001b[38;5;28;43mself\u001b[39;49m\u001b[38;5;241;43m.\u001b[39;49m\u001b[43m_download_and_prepare\u001b[49m\u001b[43m(\u001b[49m\n\u001b[1;32m    925\u001b[0m \u001b[43m    \u001b[49m\u001b[43mdl_manager\u001b[49m\u001b[38;5;241;43m=\u001b[39;49m\u001b[43mdl_manager\u001b[49m\u001b[43m,\u001b[49m\n\u001b[1;32m    926\u001b[0m \u001b[43m    \u001b[49m\u001b[43mverification_mode\u001b[49m\u001b[38;5;241;43m=\u001b[39;49m\u001b[43mverification_mode\u001b[49m\u001b[43m,\u001b[49m\n\u001b[1;32m    927\u001b[0m \u001b[43m    \u001b[49m\u001b[38;5;241;43m*\u001b[39;49m\u001b[38;5;241;43m*\u001b[39;49m\u001b[43mprepare_split_kwargs\u001b[49m\u001b[43m,\u001b[49m\n\u001b[1;32m    928\u001b[0m \u001b[43m    \u001b[49m\u001b[38;5;241;43m*\u001b[39;49m\u001b[38;5;241;43m*\u001b[39;49m\u001b[43mdownload_and_prepare_kwargs\u001b[49m\u001b[43m,\u001b[49m\n\u001b[1;32m    929\u001b[0m \u001b[43m\u001b[49m\u001b[43m)\u001b[49m\n\u001b[1;32m    930\u001b[0m \u001b[38;5;66;03m# Sync info\u001b[39;00m\n\u001b[1;32m    931\u001b[0m \u001b[38;5;28mself\u001b[39m\u001b[38;5;241m.\u001b[39minfo\u001b[38;5;241m.\u001b[39mdataset_size \u001b[38;5;241m=\u001b[39m \u001b[38;5;28msum\u001b[39m(split\u001b[38;5;241m.\u001b[39mnum_bytes \u001b[38;5;28;01mfor\u001b[39;00m split \u001b[38;5;129;01min\u001b[39;00m \u001b[38;5;28mself\u001b[39m\u001b[38;5;241m.\u001b[39minfo\u001b[38;5;241m.\u001b[39msplits\u001b[38;5;241m.\u001b[39mvalues())\n",
      "File \u001b[0;32m/home/foresti/miniconda3/envs/sedd/lib/python3.10/site-packages/datasets/builder.py:1000\u001b[0m, in \u001b[0;36mDatasetBuilder._download_and_prepare\u001b[0;34m(self, dl_manager, verification_mode, **prepare_split_kwargs)\u001b[0m\n\u001b[1;32m    996\u001b[0m split_dict\u001b[38;5;241m.\u001b[39madd(split_generator\u001b[38;5;241m.\u001b[39msplit_info)\n\u001b[1;32m    998\u001b[0m \u001b[38;5;28;01mtry\u001b[39;00m:\n\u001b[1;32m    999\u001b[0m     \u001b[38;5;66;03m# Prepare split will record examples associated to the split\u001b[39;00m\n\u001b[0;32m-> 1000\u001b[0m     \u001b[38;5;28;43mself\u001b[39;49m\u001b[38;5;241;43m.\u001b[39;49m\u001b[43m_prepare_split\u001b[49m\u001b[43m(\u001b[49m\u001b[43msplit_generator\u001b[49m\u001b[43m,\u001b[49m\u001b[43m \u001b[49m\u001b[38;5;241;43m*\u001b[39;49m\u001b[38;5;241;43m*\u001b[39;49m\u001b[43mprepare_split_kwargs\u001b[49m\u001b[43m)\u001b[49m\n\u001b[1;32m   1001\u001b[0m \u001b[38;5;28;01mexcept\u001b[39;00m \u001b[38;5;167;01mOSError\u001b[39;00m \u001b[38;5;28;01mas\u001b[39;00m e:\n\u001b[1;32m   1002\u001b[0m     \u001b[38;5;28;01mraise\u001b[39;00m \u001b[38;5;167;01mOSError\u001b[39;00m(\n\u001b[1;32m   1003\u001b[0m         \u001b[38;5;124m\"\u001b[39m\u001b[38;5;124mCannot find data file. \u001b[39m\u001b[38;5;124m\"\u001b[39m\n\u001b[1;32m   1004\u001b[0m         \u001b[38;5;241m+\u001b[39m (\u001b[38;5;28mself\u001b[39m\u001b[38;5;241m.\u001b[39mmanual_download_instructions \u001b[38;5;129;01mor\u001b[39;00m \u001b[38;5;124m\"\u001b[39m\u001b[38;5;124m\"\u001b[39m)\n\u001b[1;32m   1005\u001b[0m         \u001b[38;5;241m+\u001b[39m \u001b[38;5;124m\"\u001b[39m\u001b[38;5;130;01m\\n\u001b[39;00m\u001b[38;5;124mOriginal error:\u001b[39m\u001b[38;5;130;01m\\n\u001b[39;00m\u001b[38;5;124m\"\u001b[39m\n\u001b[1;32m   1006\u001b[0m         \u001b[38;5;241m+\u001b[39m \u001b[38;5;28mstr\u001b[39m(e)\n\u001b[1;32m   1007\u001b[0m     ) \u001b[38;5;28;01mfrom\u001b[39;00m \u001b[38;5;28;01mNone\u001b[39;00m\n",
      "File \u001b[0;32m/home/foresti/miniconda3/envs/sedd/lib/python3.10/site-packages/datasets/builder.py:1741\u001b[0m, in \u001b[0;36mArrowBasedBuilder._prepare_split\u001b[0;34m(self, split_generator, file_format, num_proc, max_shard_size)\u001b[0m\n\u001b[1;32m   1739\u001b[0m job_id \u001b[38;5;241m=\u001b[39m \u001b[38;5;241m0\u001b[39m\n\u001b[1;32m   1740\u001b[0m \u001b[38;5;28;01mwith\u001b[39;00m pbar:\n\u001b[0;32m-> 1741\u001b[0m     \u001b[38;5;28;01mfor\u001b[39;00m job_id, done, content \u001b[38;5;129;01min\u001b[39;00m \u001b[38;5;28mself\u001b[39m\u001b[38;5;241m.\u001b[39m_prepare_split_single(\n\u001b[1;32m   1742\u001b[0m         gen_kwargs\u001b[38;5;241m=\u001b[39mgen_kwargs, job_id\u001b[38;5;241m=\u001b[39mjob_id, \u001b[38;5;241m*\u001b[39m\u001b[38;5;241m*\u001b[39m_prepare_split_args\n\u001b[1;32m   1743\u001b[0m     ):\n\u001b[1;32m   1744\u001b[0m         \u001b[38;5;28;01mif\u001b[39;00m done:\n\u001b[1;32m   1745\u001b[0m             result \u001b[38;5;241m=\u001b[39m content\n",
      "File \u001b[0;32m/home/foresti/miniconda3/envs/sedd/lib/python3.10/site-packages/datasets/builder.py:1897\u001b[0m, in \u001b[0;36mArrowBasedBuilder._prepare_split_single\u001b[0;34m(self, gen_kwargs, fpath, file_format, max_shard_size, job_id)\u001b[0m\n\u001b[1;32m   1895\u001b[0m     \u001b[38;5;28;01mif\u001b[39;00m \u001b[38;5;28misinstance\u001b[39m(e, DatasetGenerationError):\n\u001b[1;32m   1896\u001b[0m         \u001b[38;5;28;01mraise\u001b[39;00m\n\u001b[0;32m-> 1897\u001b[0m     \u001b[38;5;28;01mraise\u001b[39;00m DatasetGenerationError(\u001b[38;5;124m\"\u001b[39m\u001b[38;5;124mAn error occurred while generating the dataset\u001b[39m\u001b[38;5;124m\"\u001b[39m) \u001b[38;5;28;01mfrom\u001b[39;00m \u001b[38;5;21;01me\u001b[39;00m\n\u001b[1;32m   1899\u001b[0m \u001b[38;5;28;01myield\u001b[39;00m job_id, \u001b[38;5;28;01mTrue\u001b[39;00m, (total_num_examples, total_num_bytes, writer\u001b[38;5;241m.\u001b[39m_features, num_shards, shard_lengths)\n",
      "\u001b[0;31mDatasetGenerationError\u001b[0m: An error occurred while generating the dataset"
     ]
    }
   ],
   "source": [
    "from datasets import load_dataset\n",
    "from transformers import GPT2TokenizerFast\n",
    "from tqdm import tqdm\n",
    "\n",
    "# Load a dataset (e.g., the 'cnn_dailymail' dataset)\n",
    "dataset = load_dataset('cnn_dailymail', '3.0.0')\n",
    "\n",
    "\n",
    "tokenizer = GPT2TokenizerFast.from_pretrained(\"gpt2\")\n",
    "\n",
    "# Define the max_length for tokenization\n",
    "max_length = 768\n",
    "\n",
    "# Function to check if an article/highlight gets truncated\n",
    "def is_truncated(example):\n",
    "    article_tokens = tokenizer(example['article'], truncation=True, max_length=max_length)\n",
    "    highlight_tokens = tokenizer(example['highlights'], truncation=True, max_length=1024-max_length)\n",
    "    return len(article_tokens['input_ids']) == max_length or len(highlight_tokens['input_ids']) == 1024-max_length\n",
    "\n",
    "# Count the number of truncated articles/highlights in the 'train' split\n",
    "\n",
    "truncated_count = 0\n",
    "count = 0\n",
    "pbar = tqdm(total=len(dataset['train']), desc=\"Checking for truncation\")\n",
    "\n",
    "for example in dataset['train']:\n",
    "    count += 1\n",
    "    pbar.set_postfix({\"truncated\": truncated_count, \"total\": count, \"ratio\": truncated_count / count})\n",
    "    pbar.update(1)\n",
    "    if is_truncated(example):\n",
    "        truncated_count += 1\n",
    "\n",
    "# Get the total number of entries in the 'train' split\n",
    "total_count = len(dataset['train'])\n",
    "\n",
    "# Calculate the ratio of truncated entries\n",
    "truncated_ratio = truncated_count / total_count\n",
    "\n",
    "print(f\"Number of truncated articles/highlights: {truncated_count}\")\n",
    "print(f\"Total number of entries: {total_count}\")\n",
    "print(f\"Ratio of truncated entries: {truncated_ratio:.2%}\")"
   ]
  },
  {
   "cell_type": "code",
   "execution_count": 2,
   "metadata": {},
   "outputs": [
    {
     "data": {
      "application/vnd.jupyter.widget-view+json": {
       "model_id": "061f19e2d3334bcd8c07208852e70782",
       "version_major": 2,
       "version_minor": 0
      },
      "text/plain": [
       "tokenizer_config.json:   0%|          | 0.00/26.0 [00:00<?, ?B/s]"
      ]
     },
     "metadata": {},
     "output_type": "display_data"
    },
    {
     "data": {
      "application/vnd.jupyter.widget-view+json": {
       "model_id": "384cbd778ff54da38ec6402be192bf00",
       "version_major": 2,
       "version_minor": 0
      },
      "text/plain": [
       "config.json:   0%|          | 0.00/665 [00:00<?, ?B/s]"
      ]
     },
     "metadata": {},
     "output_type": "display_data"
    },
    {
     "data": {
      "application/vnd.jupyter.widget-view+json": {
       "model_id": "5c3518e19f75400bb0f4e89bc6336ad8",
       "version_major": 2,
       "version_minor": 0
      },
      "text/plain": [
       "vocab.json:   0%|          | 0.00/1.04M [00:00<?, ?B/s]"
      ]
     },
     "metadata": {},
     "output_type": "display_data"
    },
    {
     "data": {
      "application/vnd.jupyter.widget-view+json": {
       "model_id": "57e78f70d6bb461e98c5fcc66fa82f65",
       "version_major": 2,
       "version_minor": 0
      },
      "text/plain": [
       "merges.txt:   0%|          | 0.00/456k [00:00<?, ?B/s]"
      ]
     },
     "metadata": {},
     "output_type": "display_data"
    },
    {
     "data": {
      "application/vnd.jupyter.widget-view+json": {
       "model_id": "91daac6ce518465f84740d5424c18232",
       "version_major": 2,
       "version_minor": 0
      },
      "text/plain": [
       "tokenizer.json:   0%|          | 0.00/1.36M [00:00<?, ?B/s]"
      ]
     },
     "metadata": {},
     "output_type": "display_data"
    },
    {
     "data": {
      "application/vnd.jupyter.widget-view+json": {
       "model_id": "e870015e44f4498aa4e188a80a62bc07",
       "version_major": 2,
       "version_minor": 0
      },
      "text/plain": [
       "config.json:   0%|          | 0.00/489 [00:00<?, ?B/s]"
      ]
     },
     "metadata": {},
     "output_type": "display_data"
    },
    {
     "data": {
      "application/vnd.jupyter.widget-view+json": {
       "model_id": "c7c6f24ff0074d5a9ccb6806b564045f",
       "version_major": 2,
       "version_minor": 0
      },
      "text/plain": [
       "configuration_mdlm.py:   0%|          | 0.00/740 [00:00<?, ?B/s]"
      ]
     },
     "metadata": {},
     "output_type": "display_data"
    },
    {
     "name": "stderr",
     "output_type": "stream",
     "text": [
      "A new version of the following files was downloaded from https://huggingface.co/kuleshov-group/mdlm-owt:\n",
      "- configuration_mdlm.py\n",
      ". Make sure to double-check they do not contain any added malicious code. To avoid downloading new versions of the code file, you can pin a revision.\n"
     ]
    },
    {
     "data": {
      "application/vnd.jupyter.widget-view+json": {
       "model_id": "d0a3d2b9af7e4b2caac08058033c5de3",
       "version_major": 2,
       "version_minor": 0
      },
      "text/plain": [
       "modeling_mdlm.py:   0%|          | 0.00/13.8k [00:00<?, ?B/s]"
      ]
     },
     "metadata": {},
     "output_type": "display_data"
    },
    {
     "name": "stderr",
     "output_type": "stream",
     "text": [
      "A new version of the following files was downloaded from https://huggingface.co/kuleshov-group/mdlm-owt:\n",
      "- modeling_mdlm.py\n",
      ". Make sure to double-check they do not contain any added malicious code. To avoid downloading new versions of the code file, you can pin a revision.\n"
     ]
    },
    {
     "data": {
      "application/vnd.jupyter.widget-view+json": {
       "model_id": "b5353fede06a46f09a537baad78797d9",
       "version_major": 2,
       "version_minor": 0
      },
      "text/plain": [
       "model.safetensors:   0%|          | 0.00/679M [00:00<?, ?B/s]"
      ]
     },
     "metadata": {},
     "output_type": "display_data"
    }
   ],
   "source": [
    "import transformers\n",
    "from transformers import AutoModelForMaskedLM, AutoTokenizer\n",
    "\n",
    "# See the `MDLM` collection page on the hub for list of available models.\n",
    "tokenizer = transformers.AutoTokenizer.from_pretrained('gpt2')\n",
    "model_name = 'kuleshov-group/mdlm-owt'\n",
    "model = AutoModelForMaskedLM.from_pretrained(model_name)\n"
   ]
  },
  {
   "cell_type": "code",
   "execution_count": 3,
   "metadata": {},
   "outputs": [
    {
     "data": {
      "text/plain": [
       "MDLM(\n",
       "  (backbone): DITBackbone(\n",
       "    (vocab_embed): EmbeddingLayer()\n",
       "    (sigma_map): TimestepEmbedder(\n",
       "      (mlp): Sequential(\n",
       "        (0): Linear(in_features=256, out_features=128, bias=True)\n",
       "        (1): SiLU()\n",
       "        (2): Linear(in_features=128, out_features=128, bias=True)\n",
       "      )\n",
       "    )\n",
       "    (rotary_emb): Rotary()\n",
       "    (blocks): ModuleList(\n",
       "      (0-11): 12 x DDiTBlock(\n",
       "        (norm1): LayerNorm()\n",
       "        (attn_qkv): Linear(in_features=768, out_features=2304, bias=False)\n",
       "        (attn_out): Linear(in_features=768, out_features=768, bias=False)\n",
       "        (dropout1): Dropout(p=0.1, inplace=False)\n",
       "        (norm2): LayerNorm()\n",
       "        (mlp): Sequential(\n",
       "          (0): Linear(in_features=768, out_features=3072, bias=True)\n",
       "          (1): GELU(approximate='tanh')\n",
       "          (2): Linear(in_features=3072, out_features=768, bias=True)\n",
       "        )\n",
       "        (dropout2): Dropout(p=0.1, inplace=False)\n",
       "        (adaLN_modulation): Linear(in_features=128, out_features=4608, bias=True)\n",
       "      )\n",
       "    )\n",
       "    (output_layer): DDitFinalLayer(\n",
       "      (norm_final): LayerNorm()\n",
       "      (linear): Linear(in_features=768, out_features=50258, bias=True)\n",
       "      (adaLN_modulation): Linear(in_features=128, out_features=1536, bias=True)\n",
       "    )\n",
       "  )\n",
       ")"
      ]
     },
     "execution_count": 3,
     "metadata": {},
     "output_type": "execute_result"
    }
   ],
   "source": [
    "model"
   ]
  },
  {
   "cell_type": "code",
   "execution_count": 1,
   "metadata": {},
   "outputs": [
    {
     "name": "stdout",
     "output_type": "stream",
     "text": [
      "Hugging Face cache directory: /homes/foresti/.cache/huggingface/hub\n"
     ]
    },
    {
     "data": {
      "application/vnd.jupyter.widget-view+json": {
       "model_id": "4f2fb9ea4f4349008f097ca5dc93680b",
       "version_major": 2,
       "version_minor": 0
      },
      "text/plain": [
       "config.json:   0%|          | 0.00/509 [00:00<?, ?B/s]"
      ]
     },
     "metadata": {},
     "output_type": "display_data"
    },
    {
     "data": {
      "application/vnd.jupyter.widget-view+json": {
       "model_id": "e3e836d071974336b4d0da5231440735",
       "version_major": 2,
       "version_minor": 0
      },
      "text/plain": [
       "configuration_mdlm.py:   0%|          | 0.00/740 [00:00<?, ?B/s]"
      ]
     },
     "metadata": {},
     "output_type": "display_data"
    },
    {
     "name": "stderr",
     "output_type": "stream",
     "text": [
      "A new version of the following files was downloaded from https://huggingface.co/kuleshov-group/mdlm-no_flashattn-fp32-owt:\n",
      "- configuration_mdlm.py\n",
      ". Make sure to double-check they do not contain any added malicious code. To avoid downloading new versions of the code file, you can pin a revision.\n"
     ]
    },
    {
     "data": {
      "application/vnd.jupyter.widget-view+json": {
       "model_id": "f69ad60311e54365a9681c3304bc53af",
       "version_major": 2,
       "version_minor": 0
      },
      "text/plain": [
       "modeling_mdlm_2.py:   0%|          | 0.00/14.5k [00:00<?, ?B/s]"
      ]
     },
     "metadata": {},
     "output_type": "display_data"
    },
    {
     "name": "stderr",
     "output_type": "stream",
     "text": [
      "A new version of the following files was downloaded from https://huggingface.co/kuleshov-group/mdlm-no_flashattn-fp32-owt:\n",
      "- modeling_mdlm_2.py\n",
      ". Make sure to double-check they do not contain any added malicious code. To avoid downloading new versions of the code file, you can pin a revision.\n"
     ]
    },
    {
     "data": {
      "application/vnd.jupyter.widget-view+json": {
       "model_id": "c6c1722e6f9c4151a084452298ffb420",
       "version_major": 2,
       "version_minor": 0
      },
      "text/plain": [
       "model.safetensors:   0%|          | 0.00/679M [00:00<?, ?B/s]"
      ]
     },
     "metadata": {},
     "output_type": "display_data"
    }
   ],
   "source": [
    "# Load model directly\n",
    "from transformers import AutoModelForMaskedLM\n",
    "import os\n",
    "from transformers import file_utils\n",
    "\n",
    "# Get the cache directory path\n",
    "cache_dir = file_utils.default_cache_path\n",
    "\n",
    "# Print the cache directory path\n",
    "print(f\"Hugging Face cache directory: {cache_dir}\")\n",
    "\n",
    "# Load the model\n",
    "model = AutoModelForMaskedLM.from_pretrained(\"kuleshov-group/mdlm-no_flashattn-fp32-owt\", trust_remote_code=True)"
   ]
  }
 ],
 "metadata": {
  "kernelspec": {
   "display_name": "sedd",
   "language": "python",
   "name": "python3"
  },
  "language_info": {
   "codemirror_mode": {
    "name": "ipython",
    "version": 3
   },
   "file_extension": ".py",
   "mimetype": "text/x-python",
   "name": "python",
   "nbconvert_exporter": "python",
   "pygments_lexer": "ipython3",
   "version": "3.10.14"
  }
 },
 "nbformat": 4,
 "nbformat_minor": 2
}
