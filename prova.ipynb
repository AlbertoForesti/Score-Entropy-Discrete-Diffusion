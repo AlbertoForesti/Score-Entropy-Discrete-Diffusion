{
 "cells": [
  {
   "cell_type": "code",
   "execution_count": 1,
   "metadata": {},
   "outputs": [
    {
     "name": "stdout",
     "output_type": "stream",
     "text": [
      "Configuration: (-1, -1, -1, -1), Probability: 0.500000\n",
      "Configuration: (-1, -1, -1, 1), Probability: 0.000000\n",
      "Configuration: (-1, -1, 1, -1), Probability: 0.000000\n",
      "Configuration: (-1, -1, 1, 1), Probability: 0.000000\n",
      "Configuration: (-1, 1, -1, -1), Probability: 0.000000\n",
      "Configuration: (-1, 1, -1, 1), Probability: 0.000000\n",
      "Configuration: (-1, 1, 1, -1), Probability: 0.000000\n",
      "Configuration: (-1, 1, 1, 1), Probability: 0.000000\n",
      "Configuration: (1, -1, -1, -1), Probability: 0.000000\n",
      "Configuration: (1, -1, -1, 1), Probability: 0.000000\n",
      "Configuration: (1, -1, 1, -1), Probability: 0.000000\n",
      "Configuration: (1, -1, 1, 1), Probability: 0.000000\n",
      "Configuration: (1, 1, -1, -1), Probability: 0.000000\n",
      "Configuration: (1, 1, -1, 1), Probability: 0.000000\n",
      "Configuration: (1, 1, 1, -1), Probability: 0.000000\n",
      "Configuration: (1, 1, 1, 1), Probability: 0.500000\n",
      "probs=[5.00000000e-01 9.02425694e-36 9.02425694e-36 9.02425694e-36\n",
      " 9.02425694e-36 9.02425694e-36 1.62874427e-70 9.02425694e-36\n",
      " 9.02425694e-36 1.62874427e-70 9.02425694e-36 9.02425694e-36\n",
      " 9.02425694e-36 9.02425694e-36 9.02425694e-36 5.00000000e-01]\n",
      "Entropy is 0.6931471805599453\n"
     ]
    }
   ],
   "source": [
    "import numpy as np\n",
    "import itertools\n",
    "\n",
    "def generate_configurations(N):\n",
    "    \"\"\"Generate all possible spin configurations for N spins.\"\"\"\n",
    "    return list(itertools.product([-1, 1], repeat=N))\n",
    "\n",
    "def calculate_energy(configuration, L, J):\n",
    "    \"\"\"Calculate the energy of a given spin configuration.\"\"\"\n",
    "    energy = 0\n",
    "    for i in range(L):\n",
    "        for j in range(L):\n",
    "            spin = configuration[i * L + j]\n",
    "            # Interactions with right and down neighbors (periodic boundary conditions)\n",
    "            right = configuration[i * L + (j + 1) % L]\n",
    "            down = configuration[((i + 1) % L) * L + j]\n",
    "            energy -= J * spin * (right + down)\n",
    "    return energy\n",
    "\n",
    "def calculate_probabilities(L, J, T):\n",
    "    \"\"\"Calculate the probability vector of all configurations at temperature T.\"\"\"\n",
    "    N = L * L\n",
    "    beta = 1.0 / T\n",
    "    configurations = generate_configurations(N)\n",
    "    energies = np.array([calculate_energy(config, L, J) for config in configurations])\n",
    "    boltzmann_factors = np.exp(-beta * energies)\n",
    "    Z = np.sum(boltzmann_factors)\n",
    "    probabilities = boltzmann_factors / Z\n",
    "    return configurations, probabilities\n",
    "\n",
    "# Parameters\n",
    "L = 2  # Lattice dimension (LxL)\n",
    "J = 1.0  # Interaction strength\n",
    "T = 1e-1  # Temperature\n",
    "\n",
    "# Calculate probabilities\n",
    "configs, probs = calculate_probabilities(L, J, T)\n",
    "\n",
    "# Display results\n",
    "for config, prob in zip(configs, probs):\n",
    "    print(f\"Configuration: {config}, Probability: {prob:.6f}\")\n",
    "\n",
    "print(f\"probs={probs}\")\n",
    "print(f\"Entropy is {-np.sum(probs*np.log(probs))}\")\n"
   ]
  }
 ],
 "metadata": {
  "kernelspec": {
   "display_name": "sedd",
   "language": "python",
   "name": "python3"
  },
  "language_info": {
   "codemirror_mode": {
    "name": "ipython",
    "version": 3
   },
   "file_extension": ".py",
   "mimetype": "text/x-python",
   "name": "python",
   "nbconvert_exporter": "python",
   "pygments_lexer": "ipython3",
   "version": "3.10.14"
  }
 },
 "nbformat": 4,
 "nbformat_minor": 2
}
